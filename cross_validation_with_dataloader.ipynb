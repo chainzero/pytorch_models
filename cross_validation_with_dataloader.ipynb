{
  "nbformat": 4,
  "nbformat_minor": 0,
  "metadata": {
    "colab": {
      "provenance": [],
      "authorship_tag": "ABX9TyP/gfrPO8F0Wpf2hJyq2fc9",
      "include_colab_link": true
    },
    "kernelspec": {
      "name": "python3",
      "display_name": "Python 3"
    },
    "language_info": {
      "name": "python"
    }
  },
  "cells": [
    {
      "cell_type": "markdown",
      "metadata": {
        "id": "view-in-github",
        "colab_type": "text"
      },
      "source": [
        "<a href=\"https://colab.research.google.com/github/chainzero/pytorch_models/blob/main/cross_validation_with_dataloader.ipynb\" target=\"_parent\"><img src=\"https://colab.research.google.com/assets/colab-badge.svg\" alt=\"Open In Colab\"/></a>"
      ]
    },
    {
      "cell_type": "code",
      "execution_count": 1,
      "metadata": {
        "id": "9uPb7wj9aY1c"
      },
      "outputs": [],
      "source": [
        "# import libraries\n",
        "import torch\n",
        "import torch.nn as nn\n",
        "import numpy as np\n",
        "import matplotlib.pyplot as plt\n",
        "from sklearn.model_selection import train_test_split\n",
        "\n",
        "from torch.utils.data import DataLoader"
      ]
    },
    {
      "cell_type": "code",
      "source": [
        "# import dataset\n",
        "import pandas as pd\n",
        "iris = pd.read_csv('https://raw.githubusercontent.com/mwaskom/seaborn-data/master/iris.csv')\n",
        "\n",
        "\n",
        "# convert from pandas dataframe to tensor\n",
        "data = torch.tensor( iris[iris.columns[0:4]].values ).float()\n",
        "\n",
        "# transform species to number\n",
        "labels = torch.zeros(len(data), dtype=torch.long)\n",
        "# labels[iris.species=='setosa'] = 0 # don't need!\n",
        "labels[iris.species=='versicolor'] = 1\n",
        "labels[iris.species=='virginica'] = 2"
      ],
      "metadata": {
        "id": "b6-EHtYVa8Rd"
      },
      "execution_count": 2,
      "outputs": []
    },
    {
      "cell_type": "markdown",
      "source": [
        "Data Split with ScikitLearn and Dataloaders"
      ],
      "metadata": {
        "id": "FkITtNZma-9F"
      }
    },
    {
      "cell_type": "code",
      "source": [
        "# use scikitlearn to split the data\n",
        "train_data, test_data, train_labels, test_labels = train_test_split(data, labels, test_size=0.8)\n",
        "\n",
        "# then convert into PyTorch Datasets (note: already converted to tensors)\n",
        "train_data = torch.utils.data.TensorDataset(train_data, train_labels)\n",
        "test_data = torch.utils.data.TensorDataset(test_data, test_labels)\n",
        "\n",
        "# translate into dataloader objects\n",
        "train_loader = DataLoader(train_data, shuffle=True, batch_size=12)\n",
        "test_loader = DataLoader(test_data, batch_size=test_data.tensors[0].shape[0])\n"
      ],
      "metadata": {
        "id": "S3bWgNFWdZo1"
      },
      "execution_count": 3,
      "outputs": []
    },
    {
      "cell_type": "code",
      "source": [
        "# check sizes of the data batches\n",
        "for X, y in train_loader:\n",
        "  print(X.shape, y.shape)\n",
        "\n",
        "X,y"
      ],
      "metadata": {
        "colab": {
          "base_uri": "https://localhost:8080/"
        },
        "id": "gQ0PxNpTfY5J",
        "outputId": "23e14eb9-9e66-404e-b9b4-e7db4be04c03"
      },
      "execution_count": 4,
      "outputs": [
        {
          "output_type": "stream",
          "name": "stdout",
          "text": [
            "torch.Size([12, 4]) torch.Size([12])\n",
            "torch.Size([12, 4]) torch.Size([12])\n",
            "torch.Size([6, 4]) torch.Size([6])\n"
          ]
        },
        {
          "output_type": "execute_result",
          "data": {
            "text/plain": [
              "(tensor([[5.0000, 3.6000, 1.4000, 0.2000],\n",
              "         [5.0000, 3.5000, 1.6000, 0.6000],\n",
              "         [5.8000, 2.6000, 4.0000, 1.2000],\n",
              "         [4.5000, 2.3000, 1.3000, 0.3000],\n",
              "         [5.1000, 3.4000, 1.5000, 0.2000],\n",
              "         [6.7000, 2.5000, 5.8000, 1.8000]]),\n",
              " tensor([0, 0, 1, 0, 0, 2]))"
            ]
          },
          "metadata": {},
          "execution_count": 4
        }
      ]
    },
    {
      "cell_type": "code",
      "source": [
        "# function that creates the ANN model\n",
        "\n",
        "def createNewModel():\n",
        "\n",
        "  # model architecture\n",
        "  ANNiris = nn.Sequential(\n",
        "      nn.Linear(4,64), # input layer\n",
        "      nn.ReLU(), # activation unit\n",
        "      nn.Linear(64,64), # hidden layer\n",
        "      nn.ReLU(), # activation unit\n",
        "      nn.Linear(64,3) # output layer\n",
        "  )\n",
        "\n",
        "  # loss function\n",
        "  lossfun = nn.CrossEntropyLoss()\n",
        "\n",
        "  # optimizer\n",
        "  optimizer = torch.optim.SGD(ANNiris, parameters(), lr=0.01)\n",
        "\n",
        "  return ANNiris, lossfun, optimizer"
      ],
      "metadata": {
        "id": "ab-RDpPdkrpr"
      },
      "execution_count": 5,
      "outputs": []
    },
    {
      "cell_type": "code",
      "source": [],
      "metadata": {
        "id": "IHuiYQj_nPyJ"
      },
      "execution_count": null,
      "outputs": []
    }
  ]
}