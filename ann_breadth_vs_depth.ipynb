{
  "nbformat": 4,
  "nbformat_minor": 0,
  "metadata": {
    "colab": {
      "provenance": [],
      "authorship_tag": "ABX9TyMjZH9Go7VgHAYo3y7dV/Y3",
      "include_colab_link": true
    },
    "kernelspec": {
      "name": "python3",
      "display_name": "Python 3"
    },
    "language_info": {
      "name": "python"
    }
  },
  "cells": [
    {
      "cell_type": "markdown",
      "metadata": {
        "id": "view-in-github",
        "colab_type": "text"
      },
      "source": [
        "<a href=\"https://colab.research.google.com/github/chainzero/pytorch_models/blob/main/ann_breadth_vs_depth.ipynb\" target=\"_parent\"><img src=\"https://colab.research.google.com/assets/colab-badge.svg\" alt=\"Open In Colab\"/></a>"
      ]
    },
    {
      "cell_type": "markdown",
      "source": [
        "Model depth vs. breadth"
      ],
      "metadata": {
        "id": "WUutjjrKhnhA"
      }
    },
    {
      "cell_type": "code",
      "source": [
        "# import libraries\n",
        "import torch\n",
        "import torch.nn as nn\n",
        "import torch.nn.functional as F\n",
        "\n",
        "import numpy as np\n",
        "import matplotlib.pyplot as plt\n",
        "import matplotlib_inline.backend_inline\n",
        "matplotlib_inline.backend_inline.set_matplotlib_formats('svg')"
      ],
      "metadata": {
        "id": "BBtdvsXDhvEO"
      },
      "execution_count": 1,
      "outputs": []
    },
    {
      "cell_type": "markdown",
      "source": [
        "Import and organize the data\n"
      ],
      "metadata": {
        "id": "qp9R7i9Zh6bo"
      }
    },
    {
      "cell_type": "code",
      "source": [
        "# import dataset\n",
        "import pandas as pd\n",
        "iris = pd.read_csv('https://raw.githubusercontent.com/mwaskom/seaborn-data/master/iris.csv')\n",
        "\n",
        "# convert from pandas dataframe to tensor\n",
        "data = torch.tensor( iris[iris.columns[0:4]].values ).float()\n",
        "\n",
        "# transform species to number\n",
        "labels = torch.zeros(len(data), dtype=torch.long)\n",
        "# labels[iris.species=='setosa'] = 0 # don't need!\n",
        "labels[iris.species=='versicolor'] = 1\n",
        "labels[iris.species=='virginica'] = 2"
      ],
      "metadata": {
        "id": "gg6A0ffciM0_"
      },
      "execution_count": 2,
      "outputs": []
    },
    {
      "cell_type": "markdown",
      "source": [
        "Construct and sanity-check the model\n"
      ],
      "metadata": {
        "id": "o6PIOYWIiTU_"
      }
    },
    {
      "cell_type": "code",
      "source": [
        "# create a class for the model\n",
        "\n",
        "class ANNiris(nn.Module):\n",
        "  def __init__(self, nUnits, nLayers):\n",
        "    super().__init__()\n",
        "\n",
        "    # create dictionary to store the layers\n",
        "    self.layers = nn.ModuleDict()\n",
        "    self.nLayers = nUnits#nLayers#\n",
        "\n",
        "    ### input layer\n",
        "    self.layers[\"input\"] = nn.Linear(4, nUnits)\n",
        "\n",
        "    ### hidden layers\n",
        "    for i in range(nLayers):\n",
        "      self.layers[f'hidden{i}'] = nn.Linear(nUnits, nUnits)\n",
        "\n",
        "    ### output layer\n",
        "    self.layers[\"output\"] = nn.Linear(nUnits, 3)\n",
        "\n",
        "  # forward pass\n",
        "  def forward(self, x):\n",
        "    # input layer\n",
        "    x = F.relu(self.layers['input'](x))\n",
        "\n",
        "    # hidden layers\n",
        "    for i in range(self.nLayers):\n",
        "      x = F.relu(self.layers[f'hidden{i}'])\n",
        "\n",
        "    # return output layer\n",
        "    x = self.layers['output'](x)\n",
        "    return x\n",
        "\n"
      ],
      "metadata": {
        "id": "ZSdaDHh8iX4-"
      },
      "execution_count": 3,
      "outputs": []
    },
    {
      "cell_type": "code",
      "source": [],
      "metadata": {
        "id": "Oi7_chzAlajU"
      },
      "execution_count": null,
      "outputs": []
    }
  ]
}