{
  "nbformat": 4,
  "nbformat_minor": 0,
  "metadata": {
    "colab": {
      "provenance": [],
      "authorship_tag": "ABX9TyMapa7T69isDPRiheoKInMK",
      "include_colab_link": true
    },
    "kernelspec": {
      "name": "python3",
      "display_name": "Python 3"
    },
    "language_info": {
      "name": "python"
    }
  },
  "cells": [
    {
      "cell_type": "markdown",
      "metadata": {
        "id": "view-in-github",
        "colab_type": "text"
      },
      "source": [
        "<a href=\"https://colab.research.google.com/github/chainzero/pytorch_models/blob/main/ann_breadth_vs_depth.ipynb\" target=\"_parent\"><img src=\"https://colab.research.google.com/assets/colab-badge.svg\" alt=\"Open In Colab\"/></a>"
      ]
    },
    {
      "cell_type": "markdown",
      "source": [
        "Model depth vs. breadth"
      ],
      "metadata": {
        "id": "WUutjjrKhnhA"
      }
    },
    {
      "cell_type": "code",
      "source": [
        "# import libraries\n",
        "import torch\n",
        "import torch.nn as nn\n",
        "import torch.nn.functional as F\n",
        "\n",
        "import numpy as np\n",
        "import matplotlib.pyplot as plt\n",
        "import matplotlib_inline.backend_inline\n",
        "matplotlib_inline.backend_inline.set_matplotlib_formats('svg')"
      ],
      "metadata": {
        "id": "BBtdvsXDhvEO"
      },
      "execution_count": 1,
      "outputs": []
    },
    {
      "cell_type": "markdown",
      "source": [
        "Import and organize the data\n"
      ],
      "metadata": {
        "id": "qp9R7i9Zh6bo"
      }
    },
    {
      "cell_type": "code",
      "source": [
        "# import dataset\n",
        "import pandas as pd\n",
        "iris = pd.read_csv('https://raw.githubusercontent.com/mwaskom/seaborn-data/master/iris.csv')\n",
        "\n",
        "# convert from pandas dataframe to tensor\n",
        "data = torch.tensor( iris[iris.columns[0:4]].values ).float()\n",
        "\n",
        "# transform species to number\n",
        "labels = torch.zeros(len(data), dtype=torch.long)\n",
        "# labels[iris.species=='setosa'] = 0 # don't need!\n",
        "labels[iris.species=='versicolor'] = 1\n",
        "labels[iris.species=='virginica'] = 2"
      ],
      "metadata": {
        "id": "gg6A0ffciM0_"
      },
      "execution_count": 2,
      "outputs": []
    },
    {
      "cell_type": "markdown",
      "source": [
        "Construct and sanity-check the model\n"
      ],
      "metadata": {
        "id": "o6PIOYWIiTU_"
      }
    },
    {
      "cell_type": "code",
      "source": [
        "# create a class for the model\n",
        "\n",
        "class ANNiris(nn.Module):\n",
        "  def __init__(self,nUnits,nLayers):\n",
        "    super().__init__()\n",
        "\n",
        "    # create dictionary to store the layers\n",
        "    self.layers = nn.ModuleDict()\n",
        "    self.nLayers = nLayers\n",
        "\n",
        "    ### input layer\n",
        "    self.layers['input'] = nn.Linear(4,nUnits)\n",
        "\n",
        "    ### hidden layers\n",
        "    for i in range(nLayers):\n",
        "      self.layers[f'hidden{i}'] = nn.Linear(nUnits,nUnits)\n",
        "\n",
        "    ### output layer\n",
        "    self.layers['output'] = nn.Linear(nUnits,3)\n",
        "\n",
        "\n",
        "  # forward pass\n",
        "  def forward(self,x):\n",
        "    # input layer (note: the code in the video omits the relu after this layer)\n",
        "    x = F.relu( self.layers['input'](x) )\n",
        "\n",
        "    # hidden layers\n",
        "    for i in range(self.nLayers):\n",
        "      x = F.relu( self.layers[f'hidden{i}'](x) )\n",
        "\n",
        "    # return output layer\n",
        "    x = self.layers['output'](x)\n",
        "    return x\n",
        "\n"
      ],
      "metadata": {
        "id": "ZSdaDHh8iX4-"
      },
      "execution_count": 10,
      "outputs": []
    },
    {
      "cell_type": "code",
      "source": [
        "# generate an instance of the model and inspect it\n",
        "nUnitsPerLayer = 12\n",
        "nLayers = 4\n",
        "net = ANNiris(nUnitsPerLayer, nLayers)\n",
        "net"
      ],
      "metadata": {
        "colab": {
          "base_uri": "https://localhost:8080/"
        },
        "id": "Oi7_chzAlajU",
        "outputId": "f8abdd94-4b4a-4bec-8106-3f9f34e34cf3"
      },
      "execution_count": 11,
      "outputs": [
        {
          "output_type": "execute_result",
          "data": {
            "text/plain": [
              "ANNiris(\n",
              "  (layers): ModuleDict(\n",
              "    (input): Linear(in_features=4, out_features=12, bias=True)\n",
              "    (hidden0): Linear(in_features=12, out_features=12, bias=True)\n",
              "    (hidden1): Linear(in_features=12, out_features=12, bias=True)\n",
              "    (hidden2): Linear(in_features=12, out_features=12, bias=True)\n",
              "    (hidden3): Linear(in_features=12, out_features=12, bias=True)\n",
              "    (output): Linear(in_features=12, out_features=3, bias=True)\n",
              "  )\n",
              ")"
            ]
          },
          "metadata": {},
          "execution_count": 11
        }
      ]
    },
    {
      "cell_type": "code",
      "source": [
        "# Quick test of the model by running some random numbers/data thru it\n",
        "# Simply ensures that the architecture is good\n",
        "\n",
        "# 10 samples with 4 dimensions\n",
        "tmpx = torch.rand(10,4)\n",
        "\n",
        "# run it thru the DL\n",
        "y = net(tmpx)\n",
        "\n",
        "# examine the shape of the output\n",
        "print(y.shape), print(\" \")\n",
        "\n",
        "# print the output itself\n",
        "print(y)"
      ],
      "metadata": {
        "colab": {
          "base_uri": "https://localhost:8080/"
        },
        "id": "se0_X_Vem--5",
        "outputId": "ee711018-5c9c-488d-8956-b444c07c1b0a"
      },
      "execution_count": 12,
      "outputs": [
        {
          "output_type": "stream",
          "name": "stdout",
          "text": [
            "torch.Size([10, 3])\n",
            " \n",
            "tensor([[ 0.2006,  0.0591, -0.0246],\n",
            "        [ 0.2010,  0.0598, -0.0251],\n",
            "        [ 0.2016,  0.0602, -0.0249],\n",
            "        [ 0.2025,  0.0601, -0.0247],\n",
            "        [ 0.2008,  0.0583, -0.0240],\n",
            "        [ 0.2016,  0.0598, -0.0247],\n",
            "        [ 0.2021,  0.0606, -0.0251],\n",
            "        [ 0.2036,  0.0621, -0.0257],\n",
            "        [ 0.2008,  0.0595, -0.0247],\n",
            "        [ 0.2037,  0.0618, -0.0254]], grad_fn=<AddmmBackward0>)\n"
          ]
        }
      ]
    },
    {
      "cell_type": "markdown",
      "source": [
        "Create a function that trains the model\n"
      ],
      "metadata": {
        "id": "W_hpQ9punY55"
      }
    },
    {
      "cell_type": "code",
      "source": [
        "def trainTheModel(theModel):\n",
        "\n",
        "  # define the loss function and optimizer\n",
        "  lossfun = nn.CrossEntropyLoss()\n",
        "  optimizer = torch.optim.SGD(theModel.parameters(), lr=0.01)\n",
        "\n",
        "  # loop over the epochs\n",
        "  for epochi in range(numepochs):\n",
        "\n",
        "    # forward pass\n",
        "    yHat = theModel(data)\n",
        "\n",
        "    # compute loss\n",
        "    loss = lossfun(yHat, labels)\n",
        "\n",
        "    # backprop\n",
        "    optmizer.zero_grad()\n",
        "    loss.backward()\n",
        "    optimizer.step()\n",
        "\n",
        "  # final forward pass to get accuracy\n",
        "  predictions = theModel(data)\n",
        "  predLabels = torch.argmax(predictions, axis=1)\n",
        "  acc = 100*torch.mean((predLabels == labels).float())\n",
        "\n",
        "  # total number of trainable parameters in the model\n",
        "  nParams = sum(p.numel() for p in theModel.parameters() if p.requires_grad)\n",
        "\n",
        "  # function outputs\n",
        "  return acc,nParams\n"
      ],
      "metadata": {
        "id": "b8T8sAuNqPHq"
      },
      "execution_count": 13,
      "outputs": []
    },
    {
      "cell_type": "code",
      "source": [],
      "metadata": {
        "id": "bah6F9Hntw8H"
      },
      "execution_count": null,
      "outputs": []
    }
  ]
}